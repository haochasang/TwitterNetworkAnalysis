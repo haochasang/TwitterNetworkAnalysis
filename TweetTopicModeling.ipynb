{
 "cells": [
  {
   "cell_type": "markdown",
   "metadata": {},
   "source": [
    "# Topic Modeling on \"DataScience\" tweets"
   ]
  },
  {
   "cell_type": "markdown",
   "metadata": {},
   "source": [
    "The focus of this project is to discover trending subtopics under the umbrella of \"Data Science\".\n",
    "\n",
    "Steps:\n",
    "\n",
    "- Harvest Tweets using Search API (TweetRead.py), store tweets in a json file\n",
    "- Extracting the text of each tweet (TweetText.py), store the text in a csv file\n",
    "- Clean the text data and explore what popular hashtags are being used\n",
    "- Use unsupervised machine learning algorithms (LDA & NMF) to explore the topics of the tweets"
   ]
  },
  {
   "cell_type": "markdown",
   "metadata": {},
   "source": [
    "## Importing modules"
   ]
  },
  {
   "cell_type": "code",
   "execution_count": 2,
   "metadata": {},
   "outputs": [],
   "source": [
    "# packages to store and manipulate data\n",
    "import pandas as pd\n",
    "import numpy as np\n",
    "\n",
    "# plotting packages\n",
    "import matplotlib.pyplot as plt\n",
    "import seaborn as sns\n",
    "\n",
    "# model building package\n",
    "import sklearn\n",
    "\n",
    "# package to clean text\n",
    "import re"
   ]
  },
  {
   "cell_type": "markdown",
   "metadata": {},
   "source": [
    "## Loading the tweets"
   ]
  },
  {
   "cell_type": "code",
   "execution_count": 28,
   "metadata": {},
   "outputs": [],
   "source": [
    "# read in the tweets\n",
    "df = pd.read_csv('TweetText.csv',sep='\\n')"
   ]
  },
  {
   "cell_type": "code",
   "execution_count": 29,
   "metadata": {},
   "outputs": [
    {
     "data": {
      "text/plain": [
       "(218, 1)"
      ]
     },
     "execution_count": 29,
     "metadata": {},
     "output_type": "execute_result"
    }
   ],
   "source": [
    "# make sure all the rows are read in correctly\n",
    "df.shape"
   ]
  },
  {
   "cell_type": "code",
   "execution_count": 30,
   "metadata": {},
   "outputs": [
    {
     "data": {
      "text/html": [
       "<div>\n",
       "<style scoped>\n",
       "    .dataframe tbody tr th:only-of-type {\n",
       "        vertical-align: middle;\n",
       "    }\n",
       "\n",
       "    .dataframe tbody tr th {\n",
       "        vertical-align: top;\n",
       "    }\n",
       "\n",
       "    .dataframe thead th {\n",
       "        text-align: right;\n",
       "    }\n",
       "</style>\n",
       "<table border=\"1\" class=\"dataframe\">\n",
       "  <thead>\n",
       "    <tr style=\"text-align: right;\">\n",
       "      <th></th>\n",
       "      <th>tweet</th>\n",
       "    </tr>\n",
       "  </thead>\n",
       "  <tbody>\n",
       "    <tr>\n",
       "      <th>0</th>\n",
       "      <td>RT @KirkDBorne: Biometric #IoT sensors shape t...</td>\n",
       "    </tr>\n",
       "    <tr>\n",
       "      <th>1</th>\n",
       "      <td>————</td>\n",
       "    </tr>\n",
       "    <tr>\n",
       "      <th>2</th>\n",
       "      <td>#BigData #DataScience #AI #Compute…</td>\n",
       "    </tr>\n",
       "    <tr>\n",
       "      <th>3</th>\n",
       "      <td>RT @KirkDBorne: Understanding the 3 flavors of...</td>\n",
       "    </tr>\n",
       "    <tr>\n",
       "      <th>4</th>\n",
       "      <td>RT @R_Demidchuk: 30 #Blockchain use-cases outs...</td>\n",
       "    </tr>\n",
       "  </tbody>\n",
       "</table>\n",
       "</div>"
      ],
      "text/plain": [
       "                                               tweet\n",
       "0  RT @KirkDBorne: Biometric #IoT sensors shape t...\n",
       "1                                               ————\n",
       "2                #BigData #DataScience #AI #Compute…\n",
       "3  RT @KirkDBorne: Understanding the 3 flavors of...\n",
       "4  RT @R_Demidchuk: 30 #Blockchain use-cases outs..."
      ]
     },
     "execution_count": 30,
     "metadata": {},
     "output_type": "execute_result"
    }
   ],
   "source": [
    "df.head()"
   ]
  },
  {
   "cell_type": "code",
   "execution_count": 69,
   "metadata": {},
   "outputs": [
    {
     "data": {
      "text/plain": [
       "113"
      ]
     },
     "execution_count": 69,
     "metadata": {},
     "output_type": "execute_result"
    }
   ],
   "source": [
    "# find out how many of our tweets are unique, because people retweet each other all the time\n",
    "df.tweet.unique().size"
   ]
  },
  {
   "cell_type": "markdown",
   "metadata": {},
   "source": [
    "## Exploratory Data Analysis"
   ]
  },
  {
   "cell_type": "markdown",
   "metadata": {},
   "source": [
    "### Identifying retweets"
   ]
  },
  {
   "cell_type": "code",
   "execution_count": 43,
   "metadata": {},
   "outputs": [],
   "source": [
    "# creating a new column to flag retweets\n",
    "df['is_retweet'] = df['tweet'].apply(lambda x:x[:2]=='RT')"
   ]
  },
  {
   "cell_type": "code",
   "execution_count": 44,
   "metadata": {},
   "outputs": [
    {
     "data": {
      "text/plain": [
       "84"
      ]
     },
     "execution_count": 44,
     "metadata": {},
     "output_type": "execute_result"
    }
   ],
   "source": [
    "# number of retweets\n",
    "df['is_retweet'].sum()"
   ]
  },
  {
   "cell_type": "markdown",
   "metadata": {},
   "source": [
    "### Finding the 10 most repeated tweets"
   ]
  },
  {
   "cell_type": "code",
   "execution_count": 38,
   "metadata": {
    "scrolled": true
   },
   "outputs": [
    {
     "data": {
      "text/html": [
       "<div>\n",
       "<style scoped>\n",
       "    .dataframe tbody tr th:only-of-type {\n",
       "        vertical-align: middle;\n",
       "    }\n",
       "\n",
       "    .dataframe tbody tr th {\n",
       "        vertical-align: top;\n",
       "    }\n",
       "\n",
       "    .dataframe thead th {\n",
       "        text-align: right;\n",
       "    }\n",
       "</style>\n",
       "<table border=\"1\" class=\"dataframe\">\n",
       "  <thead>\n",
       "    <tr style=\"text-align: right;\">\n",
       "      <th></th>\n",
       "      <th>tweet</th>\n",
       "      <th>counts</th>\n",
       "    </tr>\n",
       "  </thead>\n",
       "  <tbody>\n",
       "    <tr>\n",
       "      <th>0</th>\n",
       "      <td>#Mpgvip #defstar5 #makeyourownlane #smm #Mark...</td>\n",
       "      <td>10</td>\n",
       "    </tr>\n",
       "    <tr>\n",
       "      <th>47</th>\n",
       "      <td>RT @Ceo_Branding: The War Over #5G</td>\n",
       "      <td>10</td>\n",
       "    </tr>\n",
       "    <tr>\n",
       "      <th>101</th>\n",
       "      <td>https://t.co/8z2jubcI7N</td>\n",
       "      <td>10</td>\n",
       "    </tr>\n",
       "    <tr>\n",
       "      <th>51</th>\n",
       "      <td>RT @GavLaaaaaaaa: [Self Promotion] I’m a softw...</td>\n",
       "      <td>6</td>\n",
       "    </tr>\n",
       "    <tr>\n",
       "      <th>6</th>\n",
       "      <td>#ArtificialIntelligence #MachineLearning #Deep...</td>\n",
       "      <td>5</td>\n",
       "    </tr>\n",
       "    <tr>\n",
       "      <th>82</th>\n",
       "      <td>RT @marcusborba: #ComputerVision in action!</td>\n",
       "      <td>5</td>\n",
       "    </tr>\n",
       "    <tr>\n",
       "      <th>108</th>\n",
       "      <td>————</td>\n",
       "      <td>4</td>\n",
       "    </tr>\n",
       "    <tr>\n",
       "      <th>92</th>\n",
       "      <td>The #Data #Science Course 2020: Complete #Data...</td>\n",
       "      <td>4</td>\n",
       "    </tr>\n",
       "    <tr>\n",
       "      <th>68</th>\n",
       "      <td>RT @couponed_code: https://t.co/5WEGwM6jhX</td>\n",
       "      <td>4</td>\n",
       "    </tr>\n",
       "    <tr>\n",
       "      <th>16</th>\n",
       "      <td>#Data #DeepLearning #Analytics #DataS…</td>\n",
       "      <td>4</td>\n",
       "    </tr>\n",
       "  </tbody>\n",
       "</table>\n",
       "</div>"
      ],
      "text/plain": [
       "                                                 tweet  counts\n",
       "0     #Mpgvip #defstar5 #makeyourownlane #smm #Mark...      10\n",
       "47                  RT @Ceo_Branding: The War Over #5G      10\n",
       "101                           https://t.co/8z2jubcI7N       10\n",
       "51   RT @GavLaaaaaaaa: [Self Promotion] I’m a softw...       6\n",
       "6    #ArtificialIntelligence #MachineLearning #Deep...       5\n",
       "82         RT @marcusborba: #ComputerVision in action!       5\n",
       "108                                               ————       4\n",
       "92   The #Data #Science Course 2020: Complete #Data...       4\n",
       "68          RT @couponed_code: https://t.co/5WEGwM6jhX       4\n",
       "16              #Data #DeepLearning #Analytics #DataS…       4"
      ]
     },
     "execution_count": 38,
     "metadata": {},
     "output_type": "execute_result"
    }
   ],
   "source": [
    "df.groupby(['tweet']).size().reset_index(name='counts').sort_values('counts', ascending=False).head(10)"
   ]
  },
  {
   "cell_type": "markdown",
   "metadata": {},
   "source": [
    "### Finding popular hashtags"
   ]
  },
  {
   "cell_type": "code",
   "execution_count": 54,
   "metadata": {},
   "outputs": [],
   "source": [
    "def find_hashtags(tweet):\n",
    "    '''This function will extract hashtags'''\n",
    "    return re.findall('(#[A-Za-z]+[A-Za-z0-9-_]+)', tweet)  "
   ]
  },
  {
   "cell_type": "code",
   "execution_count": 55,
   "metadata": {},
   "outputs": [],
   "source": [
    "df['hashtags'] = df.tweet.apply(find_hashtags)"
   ]
  },
  {
   "cell_type": "code",
   "execution_count": 58,
   "metadata": {},
   "outputs": [
    {
     "data": {
      "text/html": [
       "<div>\n",
       "<style scoped>\n",
       "    .dataframe tbody tr th:only-of-type {\n",
       "        vertical-align: middle;\n",
       "    }\n",
       "\n",
       "    .dataframe tbody tr th {\n",
       "        vertical-align: top;\n",
       "    }\n",
       "\n",
       "    .dataframe thead th {\n",
       "        text-align: right;\n",
       "    }\n",
       "</style>\n",
       "<table border=\"1\" class=\"dataframe\">\n",
       "  <thead>\n",
       "    <tr style=\"text-align: right;\">\n",
       "      <th></th>\n",
       "      <th>tweet</th>\n",
       "      <th>is_retweet</th>\n",
       "      <th>hashtags</th>\n",
       "    </tr>\n",
       "  </thead>\n",
       "  <tbody>\n",
       "    <tr>\n",
       "      <th>0</th>\n",
       "      <td>RT @KirkDBorne: Biometric #IoT sensors shape t...</td>\n",
       "      <td>True</td>\n",
       "      <td>[#IoT]</td>\n",
       "    </tr>\n",
       "    <tr>\n",
       "      <th>1</th>\n",
       "      <td>————</td>\n",
       "      <td>False</td>\n",
       "      <td>[]</td>\n",
       "    </tr>\n",
       "    <tr>\n",
       "      <th>2</th>\n",
       "      <td>#BigData #DataScience #AI #Compute…</td>\n",
       "      <td>False</td>\n",
       "      <td>[#BigData, #DataScience, #AI, #Compute]</td>\n",
       "    </tr>\n",
       "    <tr>\n",
       "      <th>3</th>\n",
       "      <td>RT @KirkDBorne: Understanding the 3 flavors of...</td>\n",
       "      <td>True</td>\n",
       "      <td>[#MachineLearning, #ReinforcementLearning]</td>\n",
       "    </tr>\n",
       "    <tr>\n",
       "      <th>4</th>\n",
       "      <td>RT @R_Demidchuk: 30 #Blockchain use-cases outs...</td>\n",
       "      <td>True</td>\n",
       "      <td>[#Blockchain, #Fintech]</td>\n",
       "    </tr>\n",
       "  </tbody>\n",
       "</table>\n",
       "</div>"
      ],
      "text/plain": [
       "                                               tweet  is_retweet  \\\n",
       "0  RT @KirkDBorne: Biometric #IoT sensors shape t...        True   \n",
       "1                                               ————       False   \n",
       "2                #BigData #DataScience #AI #Compute…       False   \n",
       "3  RT @KirkDBorne: Understanding the 3 flavors of...        True   \n",
       "4  RT @R_Demidchuk: 30 #Blockchain use-cases outs...        True   \n",
       "\n",
       "                                     hashtags  \n",
       "0                                      [#IoT]  \n",
       "1                                          []  \n",
       "2     [#BigData, #DataScience, #AI, #Compute]  \n",
       "3  [#MachineLearning, #ReinforcementLearning]  \n",
       "4                     [#Blockchain, #Fintech]  "
      ]
     },
     "execution_count": 58,
     "metadata": {},
     "output_type": "execute_result"
    }
   ],
   "source": [
    "df.head()"
   ]
  },
  {
   "cell_type": "code",
   "execution_count": 59,
   "metadata": {},
   "outputs": [],
   "source": [
    "# remove the rows without hashtag and store the results in a new dataframe\n",
    "hashtags_list_df = df.loc[df.hashtags.apply(lambda hashtags_list: hashtags_list !=[]),['hashtags']]"
   ]
  },
  {
   "cell_type": "code",
   "execution_count": 60,
   "metadata": {},
   "outputs": [
    {
     "data": {
      "text/html": [
       "<div>\n",
       "<style scoped>\n",
       "    .dataframe tbody tr th:only-of-type {\n",
       "        vertical-align: middle;\n",
       "    }\n",
       "\n",
       "    .dataframe tbody tr th {\n",
       "        vertical-align: top;\n",
       "    }\n",
       "\n",
       "    .dataframe thead th {\n",
       "        text-align: right;\n",
       "    }\n",
       "</style>\n",
       "<table border=\"1\" class=\"dataframe\">\n",
       "  <thead>\n",
       "    <tr style=\"text-align: right;\">\n",
       "      <th></th>\n",
       "      <th>hashtags</th>\n",
       "    </tr>\n",
       "  </thead>\n",
       "  <tbody>\n",
       "    <tr>\n",
       "      <th>0</th>\n",
       "      <td>[#IoT]</td>\n",
       "    </tr>\n",
       "    <tr>\n",
       "      <th>2</th>\n",
       "      <td>[#BigData, #DataScience, #AI, #Compute]</td>\n",
       "    </tr>\n",
       "    <tr>\n",
       "      <th>3</th>\n",
       "      <td>[#MachineLearning, #ReinforcementLearning]</td>\n",
       "    </tr>\n",
       "    <tr>\n",
       "      <th>4</th>\n",
       "      <td>[#Blockchain, #Fintech]</td>\n",
       "    </tr>\n",
       "    <tr>\n",
       "      <th>5</th>\n",
       "      <td>[#MachineLearning, #BigData, #ArtificialIntell...</td>\n",
       "    </tr>\n",
       "  </tbody>\n",
       "</table>\n",
       "</div>"
      ],
      "text/plain": [
       "                                            hashtags\n",
       "0                                             [#IoT]\n",
       "2            [#BigData, #DataScience, #AI, #Compute]\n",
       "3         [#MachineLearning, #ReinforcementLearning]\n",
       "4                            [#Blockchain, #Fintech]\n",
       "5  [#MachineLearning, #BigData, #ArtificialIntell..."
      ]
     },
     "execution_count": 60,
     "metadata": {},
     "output_type": "execute_result"
    }
   ],
   "source": [
    "hashtags_list_df.head()"
   ]
  },
  {
   "cell_type": "code",
   "execution_count": 66,
   "metadata": {},
   "outputs": [],
   "source": [
    "# flatten the hashtag dataframe\n",
    "hashtags_df = pd.DataFrame([hashtag \n",
    "                            for hashtags_list in hashtags_list_df.hashtags\n",
    "                            for hashtag in hashtags_list],\n",
    "                            columns=['hashtag'])"
   ]
  },
  {
   "cell_type": "code",
   "execution_count": 67,
   "metadata": {},
   "outputs": [
    {
     "data": {
      "text/html": [
       "<div>\n",
       "<style scoped>\n",
       "    .dataframe tbody tr th:only-of-type {\n",
       "        vertical-align: middle;\n",
       "    }\n",
       "\n",
       "    .dataframe tbody tr th {\n",
       "        vertical-align: top;\n",
       "    }\n",
       "\n",
       "    .dataframe thead th {\n",
       "        text-align: right;\n",
       "    }\n",
       "</style>\n",
       "<table border=\"1\" class=\"dataframe\">\n",
       "  <thead>\n",
       "    <tr style=\"text-align: right;\">\n",
       "      <th></th>\n",
       "      <th>hashtag</th>\n",
       "    </tr>\n",
       "  </thead>\n",
       "  <tbody>\n",
       "    <tr>\n",
       "      <th>0</th>\n",
       "      <td>#IoT</td>\n",
       "    </tr>\n",
       "    <tr>\n",
       "      <th>1</th>\n",
       "      <td>#BigData</td>\n",
       "    </tr>\n",
       "    <tr>\n",
       "      <th>2</th>\n",
       "      <td>#DataScience</td>\n",
       "    </tr>\n",
       "    <tr>\n",
       "      <th>3</th>\n",
       "      <td>#AI</td>\n",
       "    </tr>\n",
       "    <tr>\n",
       "      <th>4</th>\n",
       "      <td>#Compute</td>\n",
       "    </tr>\n",
       "  </tbody>\n",
       "</table>\n",
       "</div>"
      ],
      "text/plain": [
       "        hashtag\n",
       "0          #IoT\n",
       "1      #BigData\n",
       "2  #DataScience\n",
       "3           #AI\n",
       "4      #Compute"
      ]
     },
     "execution_count": 67,
     "metadata": {},
     "output_type": "execute_result"
    }
   ],
   "source": [
    "hashtags_df.head()"
   ]
  },
  {
   "cell_type": "code",
   "execution_count": 71,
   "metadata": {},
   "outputs": [
    {
     "data": {
      "text/plain": [
       "(429, 1)"
      ]
     },
     "execution_count": 71,
     "metadata": {},
     "output_type": "execute_result"
    }
   ],
   "source": [
    "# shape of hashtags_df\n",
    "hashtags_df.shape"
   ]
  },
  {
   "cell_type": "code",
   "execution_count": 72,
   "metadata": {},
   "outputs": [
    {
     "data": {
      "text/plain": [
       "91"
      ]
     },
     "execution_count": 72,
     "metadata": {},
     "output_type": "execute_result"
    }
   ],
   "source": [
    "# number of unique hashtags\n",
    "hashtags_df['hashtag'].unique().size"
   ]
  },
  {
   "cell_type": "code",
   "execution_count": 79,
   "metadata": {},
   "outputs": [
    {
     "data": {
      "image/png": "[encoded data removed]",
      "text/plain": [
       "<Figure size 432x288 with 1 Axes>"
      ]
     },
     "metadata": {
      "needs_background": "light"
     },
     "output_type": "display_data"
    }
   ],
   "source": [
    "# number of times each hashtag appears\n",
    "counts = hashtags_df.groupby(['hashtag']).size()\\\n",
    "                              .reset_index(name='counts')\\\n",
    "                              .counts\n",
    "\n",
    "# define bins for histogram                              \n",
    "my_bins = np.arange(0,counts.max()+2, 2)-0.5\n",
    "\n",
    "# plot histogram of tweet counts\n",
    "plt.figure()\n",
    "plt.title('Distribution in how often these hashtags appear')\n",
    "plt.hist(counts, bins = my_bins)\n",
    "plt.xlabels = np.arange(1,counts.max()+1, 1)\n",
    "plt.xlabel('hashtag number of appearances')\n",
    "plt.ylabel('frequency')\n",
    "plt.yscale('log', nonposy='clip')\n",
    "plt.show()"
   ]
  },
  {
   "cell_type": "markdown",
   "metadata": {},
   "source": [
    "## Correlation between hashtags"
   ]
  },
  {
   "cell_type": "code",
   "execution_count": 80,
   "metadata": {},
   "outputs": [],
   "source": [
    "# count the appearances of the hashtags\n",
    "popular_hashtags = hashtags_df.groupby(['hashtag']).size().reset_index(name='counts')\\\n",
    "                              .sort_values('counts', ascending=False).reset_index(drop = True)\n",
    "# take hashtags which appear at least 5 times\n",
    "min_appearance = 5\n",
    "# create a set of popular hashtags\n",
    "popular_hashtags_set = set(popular_hashtags[popular_hashtags.counts>=min_appearance]['hashtag'])"
   ]
  },
  {
   "cell_type": "code",
   "execution_count": 86,
   "metadata": {},
   "outputs": [
    {
     "data": {
      "text/plain": [
       "['#RStats', '#Marketing', '#Python', '#datascience', '#Ja']"
      ]
     },
     "execution_count": 86,
     "metadata": {},
     "output_type": "execute_result"
    }
   ],
   "source": [
    "# show some popular hashtags\n",
    "list(popular_hashtags_set)[:5]"
   ]
  },
  {
   "cell_type": "code",
   "execution_count": 87,
   "metadata": {},
   "outputs": [],
   "source": [
    "# mutate a new column with only the popular hashtags\n",
    "hashtags_list_df['popular_hashtags'] = hashtags_list_df.hashtags.apply(lambda hashtag_list: [hashtag \n",
    "                                                                                             for hashtag in hashtag_list\n",
    "                                                                                             if hashtag in popular_hashtags_set])"
   ]
  },
  {
   "cell_type": "code",
   "execution_count": 89,
   "metadata": {},
   "outputs": [],
   "source": [
    "# drop rows without popular hashtags\n",
    "popular_hashtags_list_df = hashtags_list_df.loc[\n",
    "    hashtags_list_df.popular_hashtags.apply(lambda popular_hashtags_list:popular_hashtags_list!=[])]"
   ]
  },
  {
   "cell_type": "code",
   "execution_count": 93,
   "metadata": {},
   "outputs": [],
   "source": [
    "# vectorizing the hashtags\n",
    "hashtag_vector_df = popular_hashtags_list_df.loc[:,['popular_hashtags']]\n",
    "\n",
    "for hashtag in popular_hashtags_set:\n",
    "    hashtag_vector_df[hashtag] = hashtag_vector_df.popular_hashtags.apply(\n",
    "        lambda popular_hashtags:int(hashtag in popular_hashtags))"
   ]
  },
  {
   "cell_type": "code",
   "execution_count": 96,
   "metadata": {},
   "outputs": [],
   "source": [
    "# drop the popular hashtags column\n",
    "hashtag_matrix = hashtag_vector_df.drop('popular_hashtags', axis=1)"
   ]
  },
  {
   "cell_type": "code",
   "execution_count": 97,
   "metadata": {},
   "outputs": [
    {
     "data": {
      "text/html": [
       "<div>\n",
       "<style scoped>\n",
       "    .dataframe tbody tr th:only-of-type {\n",
       "        vertical-align: middle;\n",
       "    }\n",
       "\n",
       "    .dataframe tbody tr th {\n",
       "        vertical-align: top;\n",
       "    }\n",
       "\n",
       "    .dataframe thead th {\n",
       "        text-align: right;\n",
       "    }\n",
       "</style>\n",
       "<table border=\"1\" class=\"dataframe\">\n",
       "  <thead>\n",
       "    <tr style=\"text-align: right;\">\n",
       "      <th></th>\n",
       "      <th>#RStats</th>\n",
       "      <th>#Marketing</th>\n",
       "      <th>#Python</th>\n",
       "      <th>#datascience</th>\n",
       "      <th>#Ja</th>\n",
       "      <th>#DataScience</th>\n",
       "      <th>#innovation</th>\n",
       "      <th>#DeepLearning</th>\n",
       "      <th>#ComputerVision</th>\n",
       "      <th>#IoT</th>\n",
       "      <th>...</th>\n",
       "      <th>#dat</th>\n",
       "      <th>#Analytics</th>\n",
       "      <th>#bigdata</th>\n",
       "      <th>#Mpgvip</th>\n",
       "      <th>#BigData</th>\n",
       "      <th>#Data</th>\n",
       "      <th>#defstar5</th>\n",
       "      <th>#makeyourownlane</th>\n",
       "      <th>#FacialRecognitio</th>\n",
       "      <th>#IIoT</th>\n",
       "    </tr>\n",
       "  </thead>\n",
       "  <tbody>\n",
       "    <tr>\n",
       "      <th>0</th>\n",
       "      <td>0</td>\n",
       "      <td>0</td>\n",
       "      <td>0</td>\n",
       "      <td>0</td>\n",
       "      <td>0</td>\n",
       "      <td>0</td>\n",
       "      <td>0</td>\n",
       "      <td>0</td>\n",
       "      <td>0</td>\n",
       "      <td>1</td>\n",
       "      <td>...</td>\n",
       "      <td>0</td>\n",
       "      <td>0</td>\n",
       "      <td>0</td>\n",
       "      <td>0</td>\n",
       "      <td>0</td>\n",
       "      <td>0</td>\n",
       "      <td>0</td>\n",
       "      <td>0</td>\n",
       "      <td>0</td>\n",
       "      <td>0</td>\n",
       "    </tr>\n",
       "    <tr>\n",
       "      <th>2</th>\n",
       "      <td>0</td>\n",
       "      <td>0</td>\n",
       "      <td>0</td>\n",
       "      <td>0</td>\n",
       "      <td>0</td>\n",
       "      <td>1</td>\n",
       "      <td>0</td>\n",
       "      <td>0</td>\n",
       "      <td>0</td>\n",
       "      <td>0</td>\n",
       "      <td>...</td>\n",
       "      <td>0</td>\n",
       "      <td>0</td>\n",
       "      <td>0</td>\n",
       "      <td>0</td>\n",
       "      <td>1</td>\n",
       "      <td>0</td>\n",
       "      <td>0</td>\n",
       "      <td>0</td>\n",
       "      <td>0</td>\n",
       "      <td>0</td>\n",
       "    </tr>\n",
       "  </tbody>\n",
       "</table>\n",
       "<p>2 rows × 25 columns</p>\n",
       "</div>"
      ],
      "text/plain": [
       "   #RStats  #Marketing  #Python  #datascience  #Ja  #DataScience  #innovation  \\\n",
       "0        0           0        0             0    0             0            0   \n",
       "2        0           0        0             0    0             1            0   \n",
       "\n",
       "   #DeepLearning  #ComputerVision  #IoT  ...  #dat  #Analytics  #bigdata  \\\n",
       "0              0                0     1  ...     0           0         0   \n",
       "2              0                0     0  ...     0           0         0   \n",
       "\n",
       "   #Mpgvip  #BigData  #Data  #defstar5  #makeyourownlane  #FacialRecognitio  \\\n",
       "0        0         0      0          0                 0                  0   \n",
       "2        0         1      0          0                 0                  0   \n",
       "\n",
       "   #IIoT  \n",
       "0      0  \n",
       "2      0  \n",
       "\n",
       "[2 rows x 25 columns]"
      ]
     },
     "execution_count": 97,
     "metadata": {},
     "output_type": "execute_result"
    }
   ],
   "source": [
    "hashtag_matrix.head(2)"
   ]
  },
  {
   "cell_type": "code",
   "execution_count": 103,
   "metadata": {},
   "outputs": [],
   "source": [
    "# finding the correlation between hashtags\n",
    "hashtag_correlations = hashtag_matrix.corr()"
   ]
  },
  {
   "cell_type": "code",
   "execution_count": 106,
   "metadata": {},
   "outputs": [
    {
     "data": {
      "image/png": "[encoded data removed]",
      "text/plain": [
       "<Figure size 720x720 with 2 Axes>"
      ]
     },
     "metadata": {
      "needs_background": "light"
     },
     "output_type": "display_data"
    }
   ],
   "source": [
    "# plot the correlation matrix using heatmap\n",
    "plt.figure(figsize = (10,10))\n",
    "sns.heatmap(hashtag_correlations,\n",
    "    cmap='RdBu',\n",
    "    vmin=-1,\n",
    "    vmax=1,\n",
    "    square = True,\n",
    "    cbar_kws={'label':'correlation'})\n",
    "plt.show()"
   ]
  },
  {
   "cell_type": "markdown",
   "metadata": {},
   "source": [
    "From the heatmap above, we can see there are some fairly strong correlation between:\n",
    "\n",
    "- **#Marketing** and **#innovation**\n",
    "- **#Marketing** and **#smm**\n",
    "- **#Marketing** and **#dat**\n",
    "- **#RStats** and **#Python**\n",
    "- **#Marketing** and **#Mpgvip**\n",
    "- **#lloT** and **#RStats**\n",
    "    **......**"
   ]
  },
  {
   "cell_type": "markdown",
   "metadata": {},
   "source": [
    "## Using LDA for topic modeling"
   ]
  },
  {
   "cell_type": "code",
   "execution_count": 108,
   "metadata": {},
   "outputs": [],
   "source": [
    "# packages for nlp\n",
    "import nltk\n",
    "from nltk.tokenize import RegexpTokenizer\n",
    "from nltk.corpus import stopwords"
   ]
  },
  {
   "cell_type": "code",
   "execution_count": 110,
   "metadata": {},
   "outputs": [],
   "source": [
    "def remove_links(tweet):\n",
    "    '''Takes a string and removes web links from it'''\n",
    "    tweet = re.sub(r'http\\S+', '', tweet) # remove http links\n",
    "    tweet = re.sub(r'bit.ly/\\S+', '', tweet) # rempve bitly links\n",
    "    tweet = tweet.strip('[link]') # remove [links]\n",
    "    return tweet\n",
    "\n",
    "def remove_users(tweet):\n",
    "    '''Takes a string and removes retweet and @user information'''\n",
    "    tweet = re.sub('(RT\\s@[A-Za-z]+[A-Za-z0-9-_]+)', '', tweet) # remove retweet\n",
    "    tweet = re.sub('(@[A-Za-z]+[A-Za-z0-9-_]+)', '', tweet) # remove tweeted at\n",
    "    return tweet"
   ]
  },
  {
   "cell_type": "code",
   "execution_count": 173,
   "metadata": {},
   "outputs": [],
   "source": [
    "# building a tweet cleaning pipeline\n",
    "STOPWORDS = nltk.corpus.stopwords.words('english')\n",
    "STOPWORDS.extend(['#datascience','datascience']) # add datascience to stopwords\n",
    "word_rooter = nltk.stem.snowball.PorterStemmer(ignore_stopwords=False).stem\n",
    "PUNCTUATION = '!\"$%&\\'()*+,-./:;<=>?[\\\\]^_`{|}~•@…' # leave # in hashtags\n",
    "\n",
    "def clean_tweet(tweet, bigrams=False):\n",
    "    \n",
    "    tweet = remove_users(tweet) # remove @mentions\n",
    "    tweet = remove_links(tweet) # remove web links\n",
    "    tweet = tweet.lower() # lower case\n",
    "    tweet = re.sub('['+PUNCTUATION + ']+', ' ', tweet) # strip punctuation\n",
    "    tweet = re.sub('\\s+', ' ', tweet) #remove double spacing\n",
    "    #tweet = re.sub('([0-9]+)', '', tweet) # remove numbers\n",
    "    tweet_token_list = [word for word in tweet.split(' ')\n",
    "                            if word not in STOPWORDS] # remove stopwords\n",
    "\n",
    "    tweet_token_list = [word_rooter(word) if '#' not in word else word\n",
    "                        for word in tweet_token_list] # apply word rooter\n",
    "    \n",
    "    # constructing bigrams\n",
    "    if bigrams:\n",
    "        tweet_token_list = tweet_token_list+[tweet_token_list[i]+'_'+tweet_token_list[i+1]\n",
    "                                            for i in range(len(tweet_token_list)-1)]\n",
    "    \n",
    "    tweet = ' '.join(tweet_token_list)\n",
    "    return tweet"
   ]
  },
  {
   "cell_type": "code",
   "execution_count": 174,
   "metadata": {},
   "outputs": [],
   "source": [
    "df['clean_tweet'] = df.tweet.apply(clean_tweet)"
   ]
  },
  {
   "cell_type": "code",
   "execution_count": 175,
   "metadata": {},
   "outputs": [
    {
     "data": {
      "text/html": [
       "<div>\n",
       "<style scoped>\n",
       "    .dataframe tbody tr th:only-of-type {\n",
       "        vertical-align: middle;\n",
       "    }\n",
       "\n",
       "    .dataframe tbody tr th {\n",
       "        vertical-align: top;\n",
       "    }\n",
       "\n",
       "    .dataframe thead th {\n",
       "        text-align: right;\n",
       "    }\n",
       "</style>\n",
       "<table border=\"1\" class=\"dataframe\">\n",
       "  <thead>\n",
       "    <tr style=\"text-align: right;\">\n",
       "      <th></th>\n",
       "      <th>tweet</th>\n",
       "      <th>is_retweet</th>\n",
       "      <th>hashtags</th>\n",
       "      <th>clean_tweet</th>\n",
       "    </tr>\n",
       "  </thead>\n",
       "  <tbody>\n",
       "    <tr>\n",
       "      <th>0</th>\n",
       "      <td>RT @KirkDBorne: Biometric #IoT sensors shape t...</td>\n",
       "      <td>True</td>\n",
       "      <td>[#IoT]</td>\n",
       "      <td>biometr #iot sensor shape futur user interfac</td>\n",
       "    </tr>\n",
       "    <tr>\n",
       "      <th>1</th>\n",
       "      <td>————</td>\n",
       "      <td>False</td>\n",
       "      <td>[]</td>\n",
       "      <td>————</td>\n",
       "    </tr>\n",
       "    <tr>\n",
       "      <th>2</th>\n",
       "      <td>#BigData #DataScience #AI #Compute…</td>\n",
       "      <td>False</td>\n",
       "      <td>[#BigData, #DataScience, #AI, #Compute]</td>\n",
       "      <td>#bigdata #ai #compute</td>\n",
       "    </tr>\n",
       "    <tr>\n",
       "      <th>3</th>\n",
       "      <td>RT @KirkDBorne: Understanding the 3 flavors of...</td>\n",
       "      <td>True</td>\n",
       "      <td>[#MachineLearning, #ReinforcementLearning]</td>\n",
       "      <td>understand 3 flavor #machinelearning special ...</td>\n",
       "    </tr>\n",
       "    <tr>\n",
       "      <th>4</th>\n",
       "      <td>RT @R_Demidchuk: 30 #Blockchain use-cases outs...</td>\n",
       "      <td>True</td>\n",
       "      <td>[#Blockchain, #Fintech]</td>\n",
       "      <td>30 #blockchain use case outsid #fintech</td>\n",
       "    </tr>\n",
       "  </tbody>\n",
       "</table>\n",
       "</div>"
      ],
      "text/plain": [
       "                                               tweet  is_retweet  \\\n",
       "0  RT @KirkDBorne: Biometric #IoT sensors shape t...        True   \n",
       "1                                               ————       False   \n",
       "2                #BigData #DataScience #AI #Compute…       False   \n",
       "3  RT @KirkDBorne: Understanding the 3 flavors of...        True   \n",
       "4  RT @R_Demidchuk: 30 #Blockchain use-cases outs...        True   \n",
       "\n",
       "                                     hashtags  \\\n",
       "0                                      [#IoT]   \n",
       "1                                          []   \n",
       "2     [#BigData, #DataScience, #AI, #Compute]   \n",
       "3  [#MachineLearning, #ReinforcementLearning]   \n",
       "4                     [#Blockchain, #Fintech]   \n",
       "\n",
       "                                         clean_tweet  \n",
       "0     biometr #iot sensor shape futur user interfac   \n",
       "1                                               ————  \n",
       "2                             #bigdata #ai #compute   \n",
       "3   understand 3 flavor #machinelearning special ...  \n",
       "4           30 #blockchain use case outsid #fintech   "
      ]
     },
     "execution_count": 175,
     "metadata": {},
     "output_type": "execute_result"
    }
   ],
   "source": [
    "df.head()"
   ]
  },
  {
   "cell_type": "code",
   "execution_count": 176,
   "metadata": {},
   "outputs": [],
   "source": [
    "# transforming the text into a sparse matrix\n",
    "from sklearn.feature_extraction.text import CountVectorizer\n",
    "\n",
    "# words appear less than 5 times or appear in more than 90% of tweets will be discarded\n",
    "vectorizer = CountVectorizer(max_df=0.9, min_df=10, token_pattern='\\w+|\\$[\\d\\.]+|\\S+')\n",
    "tf = vectorizer.fit_transform(df['clean_tweet']).toarray()\n",
    "tf_feature_names = vectorizer.get_feature_names()"
   ]
  },
  {
   "cell_type": "code",
   "execution_count": 177,
   "metadata": {},
   "outputs": [
    {
     "data": {
      "text/plain": [
       "(218, 17)"
      ]
     },
     "execution_count": 177,
     "metadata": {},
     "output_type": "execute_result"
    }
   ],
   "source": [
    "tf.shape"
   ]
  },
  {
   "cell_type": "code",
   "execution_count": 178,
   "metadata": {},
   "outputs": [
    {
     "name": "stdout",
     "output_type": "stream",
     "text": [
      "['#5g', '#ai', '#analytics', '#bigdata', '#dat', '#data', '#deeplearning', '#defstar5', '#innovation', '#iot', '#machinelearning', '#makeyourownlane', '#marketing', '#mpgvip', '#smm', 'data', 'war']\n"
     ]
    }
   ],
   "source": [
    "# printing the features\n",
    "print(tf_feature_names)"
   ]
  },
  {
   "cell_type": "code",
   "execution_count": 185,
   "metadata": {},
   "outputs": [
    {
     "data": {
      "text/plain": [
       "LatentDirichletAllocation(n_components=7, random_state=0)"
      ]
     },
     "execution_count": 185,
     "metadata": {},
     "output_type": "execute_result"
    }
   ],
   "source": [
    "# package that contains LDA algorithm\n",
    "from sklearn.decomposition import LatentDirichletAllocation\n",
    "\n",
    "# choosing the number of topics\n",
    "number_of_topics = 7\n",
    "\n",
    "# fitting the LDA model\n",
    "model = LatentDirichletAllocation(n_components=number_of_topics, random_state=0)\n",
    "model.fit(tf)"
   ]
  },
  {
   "cell_type": "code",
   "execution_count": 186,
   "metadata": {},
   "outputs": [],
   "source": [
    "def display_topics(model, feature_names, no_top_words):\n",
    "    '''Takes a model object, the feature name matrix, and the number of words to display and returns a dataframe'''\n",
    "    topic_dict = {}\n",
    "    for topic_idx, topic in enumerate(model.components_):\n",
    "        topic_dict[\"Topic %d words\" % (topic_idx)]= ['{}'.format(feature_names[i])\n",
    "                        for i in topic.argsort()[:-no_top_words - 1:-1]]\n",
    "        topic_dict[\"Topic %d weights\" % (topic_idx)]= ['{:.1f}'.format(topic[i])\n",
    "                        for i in topic.argsort()[:-no_top_words - 1:-1]]\n",
    "    return pd.DataFrame(topic_dict)"
   ]
  },
  {
   "cell_type": "code",
   "execution_count": 187,
   "metadata": {},
   "outputs": [
    {
     "data": {
      "text/html": [
       "<div>\n",
       "<style scoped>\n",
       "    .dataframe tbody tr th:only-of-type {\n",
       "        vertical-align: middle;\n",
       "    }\n",
       "\n",
       "    .dataframe tbody tr th {\n",
       "        vertical-align: top;\n",
       "    }\n",
       "\n",
       "    .dataframe thead th {\n",
       "        text-align: right;\n",
       "    }\n",
       "</style>\n",
       "<table border=\"1\" class=\"dataframe\">\n",
       "  <thead>\n",
       "    <tr style=\"text-align: right;\">\n",
       "      <th></th>\n",
       "      <th>Topic 0 words</th>\n",
       "      <th>Topic 0 weights</th>\n",
       "      <th>Topic 1 words</th>\n",
       "      <th>Topic 1 weights</th>\n",
       "      <th>Topic 2 words</th>\n",
       "      <th>Topic 2 weights</th>\n",
       "      <th>Topic 3 words</th>\n",
       "      <th>Topic 3 weights</th>\n",
       "      <th>Topic 4 words</th>\n",
       "      <th>Topic 4 weights</th>\n",
       "      <th>Topic 5 words</th>\n",
       "      <th>Topic 5 weights</th>\n",
       "      <th>Topic 6 words</th>\n",
       "      <th>Topic 6 weights</th>\n",
       "    </tr>\n",
       "  </thead>\n",
       "  <tbody>\n",
       "    <tr>\n",
       "      <th>0</th>\n",
       "      <td>#5g</td>\n",
       "      <td>11.1</td>\n",
       "      <td>#dat</td>\n",
       "      <td>11.1</td>\n",
       "      <td>#innovation</td>\n",
       "      <td>1.1</td>\n",
       "      <td>#iot</td>\n",
       "      <td>18.1</td>\n",
       "      <td>#ai</td>\n",
       "      <td>17.9</td>\n",
       "      <td>#machinelearning</td>\n",
       "      <td>19.1</td>\n",
       "      <td>#data</td>\n",
       "      <td>11.1</td>\n",
       "    </tr>\n",
       "    <tr>\n",
       "      <th>1</th>\n",
       "      <td>war</td>\n",
       "      <td>10.1</td>\n",
       "      <td>#bigdata</td>\n",
       "      <td>10.1</td>\n",
       "      <td>#bigdata</td>\n",
       "      <td>0.1</td>\n",
       "      <td>#bigdata</td>\n",
       "      <td>8.6</td>\n",
       "      <td>#bigdata</td>\n",
       "      <td>14.3</td>\n",
       "      <td>#deeplearning</td>\n",
       "      <td>15.1</td>\n",
       "      <td>#analytics</td>\n",
       "      <td>0.1</td>\n",
       "    </tr>\n",
       "    <tr>\n",
       "      <th>2</th>\n",
       "      <td>#iot</td>\n",
       "      <td>0.1</td>\n",
       "      <td>#smm</td>\n",
       "      <td>10.1</td>\n",
       "      <td>data</td>\n",
       "      <td>0.1</td>\n",
       "      <td>#analytics</td>\n",
       "      <td>8.1</td>\n",
       "      <td>data</td>\n",
       "      <td>12.1</td>\n",
       "      <td>#bigdata</td>\n",
       "      <td>7.5</td>\n",
       "      <td>data</td>\n",
       "      <td>0.1</td>\n",
       "    </tr>\n",
       "    <tr>\n",
       "      <th>3</th>\n",
       "      <td>#bigdata</td>\n",
       "      <td>0.1</td>\n",
       "      <td>#mpgvip</td>\n",
       "      <td>10.1</td>\n",
       "      <td>#ai</td>\n",
       "      <td>0.1</td>\n",
       "      <td>#ai</td>\n",
       "      <td>2.4</td>\n",
       "      <td>#machinelearning</td>\n",
       "      <td>0.1</td>\n",
       "      <td>#analytics</td>\n",
       "      <td>4.1</td>\n",
       "      <td>#deeplearning</td>\n",
       "      <td>0.1</td>\n",
       "    </tr>\n",
       "    <tr>\n",
       "      <th>4</th>\n",
       "      <td>data</td>\n",
       "      <td>0.1</td>\n",
       "      <td>#marketing</td>\n",
       "      <td>10.1</td>\n",
       "      <td>#machinelearning</td>\n",
       "      <td>0.1</td>\n",
       "      <td>#machinelearning</td>\n",
       "      <td>2.1</td>\n",
       "      <td>#dat</td>\n",
       "      <td>0.1</td>\n",
       "      <td>#ai</td>\n",
       "      <td>0.1</td>\n",
       "      <td>#bigdata</td>\n",
       "      <td>0.1</td>\n",
       "    </tr>\n",
       "  </tbody>\n",
       "</table>\n",
       "</div>"
      ],
      "text/plain": [
       "  Topic 0 words Topic 0 weights Topic 1 words Topic 1 weights  \\\n",
       "0           #5g            11.1          #dat            11.1   \n",
       "1           war            10.1      #bigdata            10.1   \n",
       "2          #iot             0.1          #smm            10.1   \n",
       "3      #bigdata             0.1       #mpgvip            10.1   \n",
       "4          data             0.1    #marketing            10.1   \n",
       "\n",
       "      Topic 2 words Topic 2 weights     Topic 3 words Topic 3 weights  \\\n",
       "0       #innovation             1.1              #iot            18.1   \n",
       "1          #bigdata             0.1          #bigdata             8.6   \n",
       "2              data             0.1        #analytics             8.1   \n",
       "3               #ai             0.1               #ai             2.4   \n",
       "4  #machinelearning             0.1  #machinelearning             2.1   \n",
       "\n",
       "      Topic 4 words Topic 4 weights     Topic 5 words Topic 5 weights  \\\n",
       "0               #ai            17.9  #machinelearning            19.1   \n",
       "1          #bigdata            14.3     #deeplearning            15.1   \n",
       "2              data            12.1          #bigdata             7.5   \n",
       "3  #machinelearning             0.1        #analytics             4.1   \n",
       "4              #dat             0.1               #ai             0.1   \n",
       "\n",
       "   Topic 6 words Topic 6 weights  \n",
       "0          #data            11.1  \n",
       "1     #analytics             0.1  \n",
       "2           data             0.1  \n",
       "3  #deeplearning             0.1  \n",
       "4       #bigdata             0.1  "
      ]
     },
     "execution_count": 187,
     "metadata": {},
     "output_type": "execute_result"
    }
   ],
   "source": [
    "# displaying the topics\n",
    "no_top_words = 5\n",
    "display_topics(model, tf_feature_names, no_top_words)"
   ]
  },
  {
   "cell_type": "markdown",
   "metadata": {},
   "source": [
    "From the table above, we can identify some interesting topics around \"data science\".\n",
    "\n",
    "- **5G**\n",
    "- **Social Media Marketing**\n",
    "- **IoT**\n",
    "- **Machine Learning**/**Deep Learning**\n",
    "- **Data......**"
   ]
  },
  {
   "cell_type": "markdown",
   "metadata": {},
   "source": [
    "## Using NMF for topic modeling"
   ]
  },
  {
   "cell_type": "markdown",
   "metadata": {},
   "source": [
    "LDA works very well for longer text documents, but may not perform equally well on short text documents like tweets. In the following section, I will replace the LDA model with an NMF(non-negative matrix factorisation) to generate a new set of topics."
   ]
  },
  {
   "cell_type": "code",
   "execution_count": 188,
   "metadata": {},
   "outputs": [
    {
     "data": {
      "text/plain": [
       "NMF(alpha=0.1, l1_ratio=0.5, n_components=7, random_state=0)"
      ]
     },
     "execution_count": 188,
     "metadata": {},
     "output_type": "execute_result"
    }
   ],
   "source": [
    "# package that contains NMF algorithm\n",
    "from sklearn.decomposition import NMF\n",
    "\n",
    "# choosing the number of topics\n",
    "number_of_topics = 7\n",
    "\n",
    "# fitting the NMF model\n",
    "NMF_model = NMF(n_components=number_of_topics, random_state=0, alpha=.1, l1_ratio=.5)\n",
    "NMF_model.fit(tf)"
   ]
  },
  {
   "cell_type": "code",
   "execution_count": 189,
   "metadata": {},
   "outputs": [
    {
     "data": {
      "text/html": [
       "<div>\n",
       "<style scoped>\n",
       "    .dataframe tbody tr th:only-of-type {\n",
       "        vertical-align: middle;\n",
       "    }\n",
       "\n",
       "    .dataframe tbody tr th {\n",
       "        vertical-align: top;\n",
       "    }\n",
       "\n",
       "    .dataframe thead th {\n",
       "        text-align: right;\n",
       "    }\n",
       "</style>\n",
       "<table border=\"1\" class=\"dataframe\">\n",
       "  <thead>\n",
       "    <tr style=\"text-align: right;\">\n",
       "      <th></th>\n",
       "      <th>Topic 0 words</th>\n",
       "      <th>Topic 0 weights</th>\n",
       "      <th>Topic 1 words</th>\n",
       "      <th>Topic 1 weights</th>\n",
       "      <th>Topic 2 words</th>\n",
       "      <th>Topic 2 weights</th>\n",
       "      <th>Topic 3 words</th>\n",
       "      <th>Topic 3 weights</th>\n",
       "      <th>Topic 4 words</th>\n",
       "      <th>Topic 4 weights</th>\n",
       "      <th>Topic 5 words</th>\n",
       "      <th>Topic 5 weights</th>\n",
       "      <th>Topic 6 words</th>\n",
       "      <th>Topic 6 weights</th>\n",
       "    </tr>\n",
       "  </thead>\n",
       "  <tbody>\n",
       "    <tr>\n",
       "      <th>0</th>\n",
       "      <td>#bigdata</td>\n",
       "      <td>1.1</td>\n",
       "      <td>#ai</td>\n",
       "      <td>2.5</td>\n",
       "      <td>#iot</td>\n",
       "      <td>2.0</td>\n",
       "      <td>#5g</td>\n",
       "      <td>1.8</td>\n",
       "      <td>#data</td>\n",
       "      <td>1.7</td>\n",
       "      <td>data</td>\n",
       "      <td>2.2</td>\n",
       "      <td>#machinelearning</td>\n",
       "      <td>2.2</td>\n",
       "    </tr>\n",
       "    <tr>\n",
       "      <th>1</th>\n",
       "      <td>#innovation</td>\n",
       "      <td>1.1</td>\n",
       "      <td>#bigdata</td>\n",
       "      <td>1.0</td>\n",
       "      <td>#bigdata</td>\n",
       "      <td>1.4</td>\n",
       "      <td>war</td>\n",
       "      <td>1.7</td>\n",
       "      <td>#deeplearning</td>\n",
       "      <td>1.1</td>\n",
       "      <td>#data</td>\n",
       "      <td>0.2</td>\n",
       "      <td>#deeplearning</td>\n",
       "      <td>1.3</td>\n",
       "    </tr>\n",
       "    <tr>\n",
       "      <th>2</th>\n",
       "      <td>#dat</td>\n",
       "      <td>1.1</td>\n",
       "      <td>#machinelearning</td>\n",
       "      <td>0.0</td>\n",
       "      <td>#analytics</td>\n",
       "      <td>1.3</td>\n",
       "      <td>#iot</td>\n",
       "      <td>0.0</td>\n",
       "      <td>#analytics</td>\n",
       "      <td>0.9</td>\n",
       "      <td>war</td>\n",
       "      <td>0.0</td>\n",
       "      <td>#bigdata</td>\n",
       "      <td>1.1</td>\n",
       "    </tr>\n",
       "    <tr>\n",
       "      <th>3</th>\n",
       "      <td>#smm</td>\n",
       "      <td>1.1</td>\n",
       "      <td>#dat</td>\n",
       "      <td>0.0</td>\n",
       "      <td>#5g</td>\n",
       "      <td>0.0</td>\n",
       "      <td>#smm</td>\n",
       "      <td>0.0</td>\n",
       "      <td>war</td>\n",
       "      <td>0.0</td>\n",
       "      <td>#defstar5</td>\n",
       "      <td>0.0</td>\n",
       "      <td>war</td>\n",
       "      <td>0.0</td>\n",
       "    </tr>\n",
       "    <tr>\n",
       "      <th>4</th>\n",
       "      <td>#mpgvip</td>\n",
       "      <td>1.1</td>\n",
       "      <td>war</td>\n",
       "      <td>0.0</td>\n",
       "      <td>#defstar5</td>\n",
       "      <td>0.0</td>\n",
       "      <td>#mpgvip</td>\n",
       "      <td>0.0</td>\n",
       "      <td>#defstar5</td>\n",
       "      <td>0.0</td>\n",
       "      <td>#ai</td>\n",
       "      <td>0.0</td>\n",
       "      <td>#defstar5</td>\n",
       "      <td>0.0</td>\n",
       "    </tr>\n",
       "  </tbody>\n",
       "</table>\n",
       "</div>"
      ],
      "text/plain": [
       "  Topic 0 words Topic 0 weights     Topic 1 words Topic 1 weights  \\\n",
       "0      #bigdata             1.1               #ai             2.5   \n",
       "1   #innovation             1.1          #bigdata             1.0   \n",
       "2          #dat             1.1  #machinelearning             0.0   \n",
       "3          #smm             1.1              #dat             0.0   \n",
       "4       #mpgvip             1.1               war             0.0   \n",
       "\n",
       "  Topic 2 words Topic 2 weights Topic 3 words Topic 3 weights  Topic 4 words  \\\n",
       "0          #iot             2.0           #5g             1.8          #data   \n",
       "1      #bigdata             1.4           war             1.7  #deeplearning   \n",
       "2    #analytics             1.3          #iot             0.0     #analytics   \n",
       "3           #5g             0.0          #smm             0.0            war   \n",
       "4     #defstar5             0.0       #mpgvip             0.0      #defstar5   \n",
       "\n",
       "  Topic 4 weights Topic 5 words Topic 5 weights     Topic 6 words  \\\n",
       "0             1.7          data             2.2  #machinelearning   \n",
       "1             1.1         #data             0.2     #deeplearning   \n",
       "2             0.9           war             0.0          #bigdata   \n",
       "3             0.0     #defstar5             0.0               war   \n",
       "4             0.0           #ai             0.0         #defstar5   \n",
       "\n",
       "  Topic 6 weights  \n",
       "0             2.2  \n",
       "1             1.3  \n",
       "2             1.1  \n",
       "3             0.0  \n",
       "4             0.0  "
      ]
     },
     "execution_count": 189,
     "metadata": {},
     "output_type": "execute_result"
    }
   ],
   "source": [
    "# displaying the topics\n",
    "no_top_words = 5\n",
    "display_topics(NMF_model, tf_feature_names, no_top_words)"
   ]
  },
  {
   "cell_type": "code",
   "execution_count": null,
   "metadata": {},
   "outputs": [],
   "source": []
  }
 ],
 "metadata": {
  "kernelspec": {
   "display_name": "Python 3",
   "language": "python",
   "name": "python3"
  },
  "language_info": {
   "codemirror_mode": {
    "name": "ipython",
    "version": 3
   },
   "file_extension": ".py",
   "mimetype": "text/x-python",
   "name": "python",
   "nbconvert_exporter": "python",
   "pygments_lexer": "ipython3",
   "version": "3.7.3"
  }
 },
 "nbformat": 4,
 "nbformat_minor": 4
}
